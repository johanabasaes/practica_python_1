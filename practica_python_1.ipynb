{
  "nbformat": 4,
  "nbformat_minor": 0,
  "metadata": {
    "colab": {
      "provenance": [],
      "authorship_tag": "ABX9TyMF46iUU9Z58v3yOIZgeHsN",
      "include_colab_link": true
    },
    "kernelspec": {
      "name": "python3",
      "display_name": "Python 3"
    },
    "language_info": {
      "name": "python"
    }
  },
  "cells": [
    {
      "cell_type": "markdown",
      "metadata": {
        "id": "view-in-github",
        "colab_type": "text"
      },
      "source": [
        "<a href=\"https://colab.research.google.com/github/johanabasaes/practica_python_1/blob/main/practica_python_1.ipynb\" target=\"_parent\"><img src=\"https://colab.research.google.com/assets/colab-badge.svg\" alt=\"Open In Colab\"/></a>"
      ]
    },
    {
      "cell_type": "markdown",
      "source": [
        "Vamos a practicar el uso de varios tipos de variables y la función input a través de algunas actividades. Resuelve los problemas propuestos en código.\n",
        "\n",
        "Recopilación y muestra de datos\n"
      ],
      "metadata": {
        "id": "kqlmNwnamkBU"
      }
    },
    {
      "cell_type": "markdown",
      "source": [
        "1 - Crea un programa que solicite al usuario que escriba su nombre y luego imprima \"Hola, [nombre].\"\n"
      ],
      "metadata": {
        "id": "JCk0fIl69a6I"
      }
    },
    {
      "cell_type": "code",
      "source": [
        "nombre_usuario = input (\"¿cual es tu nombre? \")\n",
        "print (\"hola, {}\" .format(nombre_usuario))"
      ],
      "metadata": {
        "id": "qioppJT0-CYu",
        "outputId": "5b91dbeb-16b4-44c0-8526-d05c741d4928",
        "colab": {
          "base_uri": "https://localhost:8080/"
        }
      },
      "execution_count": 1,
      "outputs": [
        {
          "output_type": "stream",
          "name": "stdout",
          "text": [
            "¿cual es tu nombre? johana\n",
            "hola, johana\n"
          ]
        }
      ]
    },
    {
      "cell_type": "markdown",
      "source": [
        "2 - Crea un programa que solicite al usuario que escriba su nombre y edad, y luego imprima \"Hola, [nombre], tienes [edad] años.\""
      ],
      "metadata": {
        "id": "inA5WAhI94gv"
      }
    },
    {
      "cell_type": "code",
      "source": [
        "nombre_usuario = input (\" Ingrese su nombre: \")\n",
        "edad_usuario = input (\" Ingrese su edad: \")\n",
        "print (\"Hola, {}, tienes {} años\" .format(nombre_usuario, edad_usuario))"
      ],
      "metadata": {
        "id": "YA_YD2xW-GNS",
        "outputId": "edacfeab-d3a3-495a-d547-9bae8c20539d",
        "colab": {
          "base_uri": "https://localhost:8080/"
        }
      },
      "execution_count": 2,
      "outputs": [
        {
          "output_type": "stream",
          "name": "stdout",
          "text": [
            " Ingrese su nombre: Johana\n",
            " Ingrese su edad: 41\n",
            "Hola, Johana, tienes 41 años\n"
          ]
        }
      ]
    },
    {
      "cell_type": "markdown",
      "source": [
        "3 - Crea un programa que solicite al usuario que escriba su nombre, edad y altura en metros, y luego imprima \"Hola, [nombre], tienes [edad] años y mides [altura] metros.\""
      ],
      "metadata": {
        "id": "5L5nCPBB95OB"
      }
    },
    {
      "cell_type": "code",
      "source": [
        "nombre_usuario = input (\" Ingrese su nombre: \")\n",
        "edad_usuario = input (\" Ingrese su edad: \")\n",
        "altura_usuario = input(\" Ingrese su altura en metros: \")\n",
        "print (\"Hola, {}, tienes {} años y mides {} metros\" .format(nombre_usuario, edad_usuario,altura_usuario))"
      ],
      "metadata": {
        "id": "HY1B7FDr-FQF",
        "outputId": "35796d58-dd43-4d0e-a919-f177d50f3206",
        "colab": {
          "base_uri": "https://localhost:8080/"
        }
      },
      "execution_count": 3,
      "outputs": [
        {
          "output_type": "stream",
          "name": "stdout",
          "text": [
            " Ingrese su nombre: Johana\n",
            " Ingrese su edad: 41\n",
            " Ingrese su altura en metros: 1,50\n",
            "Hola, Johana, tienes 41 años y mides 1,50 metros\n"
          ]
        }
      ]
    },
    {
      "cell_type": "markdown",
      "source": [
        "Calculadora con operadores"
      ],
      "metadata": {
        "id": "RlX2_BEX95k7"
      }
    },
    {
      "cell_type": "markdown",
      "source": [
        "4 - Crea un programa que solicite dos valores numéricos al usuario y luego imprima la suma de ambos valores."
      ],
      "metadata": {
        "id": "qc5cEFi395o2"
      }
    },
    {
      "cell_type": "code",
      "source": [
        "valor_1 = int(input (\"Ingrese un número: \"))\n",
        "valor_2 = int(input (\"Ingrese otro número: \"))\n",
        "print (valor_1 + valor_2)"
      ],
      "metadata": {
        "id": "36dxwMVi-pd1",
        "outputId": "0ecb4b3f-e138-4db3-ed9d-da078c4c1ea4",
        "colab": {
          "base_uri": "https://localhost:8080/"
        }
      },
      "execution_count": 5,
      "outputs": [
        {
          "output_type": "stream",
          "name": "stdout",
          "text": [
            "Ingrese un número: 1\n",
            "Ingrese otro número: 3\n",
            "4\n"
          ]
        }
      ]
    },
    {
      "cell_type": "markdown",
      "source": [
        "5 - Crea un programa que solicite tres valores numéricos al usuario y luego imprima la suma de los tres valores."
      ],
      "metadata": {
        "id": "ltVBf_AA95rr"
      }
    },
    {
      "cell_type": "code",
      "source": [
        "valor_1 = int(input (\"Ingrese un número: \"))\n",
        "valor_2 = int(input (\"Ingrese otro número: \"))\n",
        "valor_3 = int(input (\"Ingrese otro número: \"))\n",
        "print (valor_1 + valor_2+ valor_3)"
      ],
      "metadata": {
        "id": "tA-0Ix02-1GW",
        "outputId": "e2c5306d-3c03-4866-f208-f2381f615393",
        "colab": {
          "base_uri": "https://localhost:8080/"
        }
      },
      "execution_count": 6,
      "outputs": [
        {
          "output_type": "stream",
          "name": "stdout",
          "text": [
            "Ingrese un número: 1\n",
            "Ingrese otro número: 2\n",
            "Ingrese otro número: 3\n",
            "6\n"
          ]
        }
      ]
    },
    {
      "cell_type": "markdown",
      "source": [
        "6 - Crea un programa que solicite dos valores numéricos al usuario y luego imprima la resta del primero menos el segundo valor."
      ],
      "metadata": {
        "id": "3ekQ2dql95ue"
      }
    },
    {
      "cell_type": "code",
      "source": [
        "valor_1 = int(input (\"Ingrese un número: \"))\n",
        "valor_2 = int(input (\"Ingrese otro número: \"))\n",
        "print (valor_1-valor_2)"
      ],
      "metadata": {
        "id": "PBDPNtZ0--xo",
        "outputId": "f2099b31-9369-4f9a-ae7f-8239fb2e45ec",
        "colab": {
          "base_uri": "https://localhost:8080/"
        }
      },
      "execution_count": 7,
      "outputs": [
        {
          "output_type": "stream",
          "name": "stdout",
          "text": [
            "Ingrese un número: 4\n",
            "Ingrese otro número: 2\n",
            "2\n"
          ]
        }
      ]
    },
    {
      "cell_type": "markdown",
      "source": [
        "7 - Crea un programa que solicite dos valores numéricos al usuario y luego imprima la multiplicación de los dos valores."
      ],
      "metadata": {
        "id": "OwWHLmJo95xE"
      }
    },
    {
      "cell_type": "code",
      "source": [
        "valor_1 = int(input (\"Ingrese un número: \"))\n",
        "valor_2 = int(input (\"Ingrese otro número: \"))\n",
        "print (valor_1*valor_2)"
      ],
      "metadata": {
        "id": "_CKhDp3d_F0K",
        "outputId": "b896d40c-4356-470f-b299-0a110b94b02a",
        "colab": {
          "base_uri": "https://localhost:8080/"
        }
      },
      "execution_count": 8,
      "outputs": [
        {
          "output_type": "stream",
          "name": "stdout",
          "text": [
            "Ingrese un número: 2\n",
            "Ingrese otro número: 3\n",
            "6\n"
          ]
        }
      ]
    },
    {
      "cell_type": "markdown",
      "source": [
        "8 - Crea un programa que solicite dos valores numéricos, un numerador y un denominador, y realice la división entre los dos valores. Asegúrate de que el valor del denominador no sea igual a 0."
      ],
      "metadata": {
        "id": "8JF5nL8D95zx"
      }
    },
    {
      "cell_type": "code",
      "source": [
        "valor_1 = int(input (\"Ingrese un número distinto de cero: \"))\n",
        "valor_2 = int(input (\"Ingrese otro número distinto de cero: \"))\n",
        "print (valor_1/valor_2)"
      ],
      "metadata": {
        "id": "b9Dyvu_L_M0n",
        "outputId": "bedb4615-4349-4bad-9b83-0acbc86fc803",
        "colab": {
          "base_uri": "https://localhost:8080/"
        }
      },
      "execution_count": 9,
      "outputs": [
        {
          "output_type": "stream",
          "name": "stdout",
          "text": [
            "Ingrese un número distinto de cero: 6\n",
            "Ingrese otro número distinto de cero: 3\n",
            "2.0\n"
          ]
        }
      ]
    },
    {
      "cell_type": "markdown",
      "source": [
        "9 - Crea un programa que solicite dos valores numéricos, un operador y una potencia, y realice la exponenciación entre estos dos valores."
      ],
      "metadata": {
        "id": "5qPwBTUo953I"
      }
    },
    {
      "cell_type": "code",
      "source": [
        "operador = int(input (\"ingrese el valor del operador: \"))\n",
        "potencia = int(input (\"ingrese el valor de la potencia: \"))\n",
        "print (operador**potencia)"
      ],
      "metadata": {
        "id": "Ub-qhvt_mtNV",
        "outputId": "d4eb1bfd-4629-4a52-cf01-8047b9266eec",
        "colab": {
          "base_uri": "https://localhost:8080/"
        }
      },
      "execution_count": 10,
      "outputs": [
        {
          "output_type": "stream",
          "name": "stdout",
          "text": [
            "ingrese el valor del operador: 2\n",
            "ingrese el valor de la potencia: 3\n",
            "8\n"
          ]
        }
      ]
    },
    {
      "cell_type": "markdown",
      "source": [
        "10 - Crea un programa que solicite dos valores numéricos, un numerador y un denominador, y realice la división entera entre los dos valores. Asegúrate de que el valor del denominador no sea igual a 0."
      ],
      "metadata": {
        "id": "UTrOKs3q_TVy"
      }
    },
    {
      "cell_type": "code",
      "source": [],
      "metadata": {
        "id": "eZ1zCouTmp9h"
      },
      "execution_count": null,
      "outputs": []
    },
    {
      "cell_type": "markdown",
      "source": [
        "11 - Crea un programa que solicite dos valores numéricos, un numerador y un denominador, y devuelva el resto de la división entre los dos valores. Asegúrate de que el valor del denominador no sea igual a 0."
      ],
      "metadata": {
        "id": "kOVRrssm_ZMl"
      }
    },
    {
      "cell_type": "code",
      "source": [],
      "metadata": {
        "id": "2y7brhsf_eQ2"
      },
      "execution_count": null,
      "outputs": []
    },
    {
      "cell_type": "markdown",
      "source": [
        "12 - Crea un código que solicite las 3 notas de un estudiante e imprima el promedio de las notas.\n"
      ],
      "metadata": {
        "id": "KOLp9f2X_awh"
      }
    },
    {
      "cell_type": "code",
      "source": [],
      "metadata": {
        "id": "lB-tlOO5_e7q"
      },
      "execution_count": null,
      "outputs": []
    },
    {
      "cell_type": "markdown",
      "source": [
        "13 - Crea un código que calcule e imprima el promedio ponderado de los números 5, 12, 20 y 15 con pesos respectivamente iguales a 1, 2, 3 y 4."
      ],
      "metadata": {
        "id": "poW22EPx_ba_"
      }
    },
    {
      "cell_type": "code",
      "source": [],
      "metadata": {
        "id": "FyFMKIoo_fa-"
      },
      "execution_count": null,
      "outputs": []
    },
    {
      "cell_type": "markdown",
      "source": [
        "Editando textos\n",
        "\n"
      ],
      "metadata": {
        "id": "EDTPStmq_cUl"
      }
    },
    {
      "cell_type": "markdown",
      "source": [
        "14 - Crea una variable llamada \"frase\" y asígnale una cadena de texto de tu elección. Luego, imprime la frase en pantalla."
      ],
      "metadata": {
        "id": "CFW0LiAj_4NY"
      }
    },
    {
      "cell_type": "code",
      "source": [],
      "metadata": {
        "id": "vLJLNNIJALFC"
      },
      "execution_count": null,
      "outputs": []
    },
    {
      "cell_type": "markdown",
      "source": [
        "15 - Crea un código que solicite una frase y luego imprima la frase en pantalla."
      ],
      "metadata": {
        "id": "EVBnvfai_4J1"
      }
    },
    {
      "cell_type": "code",
      "source": [],
      "metadata": {
        "id": "hAe_LvsJAQ8i"
      },
      "execution_count": null,
      "outputs": []
    },
    {
      "cell_type": "markdown",
      "source": [
        "16 - Crea un código que solicite una frase al usuario y luego imprima la misma frase ingresada pero en mayúsculas"
      ],
      "metadata": {
        "id": "AEpWSJ81_4HO"
      }
    },
    {
      "cell_type": "code",
      "source": [],
      "metadata": {
        "id": "U5kjk-VBAWE7"
      },
      "execution_count": null,
      "outputs": []
    },
    {
      "cell_type": "markdown",
      "source": [
        "17 - Crea un código que solicite una frase al usuario y luego imprima la misma frase ingresada pero en minúsculas.\n"
      ],
      "metadata": {
        "id": "7xf2WAjw_4E8"
      }
    },
    {
      "cell_type": "code",
      "source": [],
      "metadata": {
        "id": "cjMIV8HnAdE3"
      },
      "execution_count": null,
      "outputs": []
    },
    {
      "cell_type": "markdown",
      "source": [
        "18 - Crea una variable llamada \"frase\" y asígnale una cadena de texto de tu elección. Luego, imprime la frase sin espacios en blanco al principio y al final."
      ],
      "metadata": {
        "id": "Us-SpaNp_4Cg"
      }
    },
    {
      "cell_type": "code",
      "source": [],
      "metadata": {
        "id": "hYXJApYAAjm0"
      },
      "execution_count": null,
      "outputs": []
    },
    {
      "cell_type": "markdown",
      "source": [
        "19 - Crea un código que solicite una frase al usuario y luego imprima la misma frase sin espacios en blanco al principio y al final."
      ],
      "metadata": {
        "id": "_Yi25TIY_4AN"
      }
    },
    {
      "cell_type": "code",
      "source": [],
      "metadata": {
        "id": "zk-mEVAdAuM9"
      },
      "execution_count": null,
      "outputs": []
    },
    {
      "cell_type": "markdown",
      "source": [
        "20 - Crea un código que solicite una frase al usuario y luego imprima la misma frase sin espacios en blanco al principio y al final, además de convertirla a minúsculas."
      ],
      "metadata": {
        "id": "-MDW7nfw_3-C"
      }
    },
    {
      "cell_type": "code",
      "source": [],
      "metadata": {
        "id": "-16S2M9_AzwL"
      },
      "execution_count": null,
      "outputs": []
    },
    {
      "cell_type": "markdown",
      "source": [
        "21 - Crea un código que solicite una frase al usuario y luego imprima la misma frase con todas las vocales \"e\" reemplazadas por la letra \"f\".\n"
      ],
      "metadata": {
        "id": "hgZyf_9t_37a"
      }
    },
    {
      "cell_type": "code",
      "source": [],
      "metadata": {
        "id": "bDP19WmxA68W"
      },
      "execution_count": null,
      "outputs": []
    },
    {
      "cell_type": "markdown",
      "source": [
        "22 - Crea un código que solicite una frase al usuario y luego imprima la misma frase con todas las vocales \"a\" reemplazadas por el carácter \"@\".\n"
      ],
      "metadata": {
        "id": "XSXA5ZsJ_35B"
      }
    },
    {
      "cell_type": "code",
      "source": [],
      "metadata": {
        "id": "vV1n8KuvBBvR"
      },
      "execution_count": null,
      "outputs": []
    },
    {
      "cell_type": "markdown",
      "source": [
        "23 - Crea un código que solicite una frase al usuario y luego imprima la misma frase con todas las consonantes \"s\" reemplazadas por el carácter \"$\"."
      ],
      "metadata": {
        "id": "gJJQM17Y_32p"
      }
    },
    {
      "cell_type": "code",
      "source": [],
      "metadata": {
        "id": "kh-rt_h6BI78"
      },
      "execution_count": null,
      "outputs": []
    },
    {
      "cell_type": "markdown",
      "source": [
        "Si necesitas ayuda, las opciones de solución a las actividades estarán disponibles en la sección \"Opinión del instructor\"."
      ],
      "metadata": {
        "id": "S2GAM2_-_3z-"
      }
    }
  ]
}